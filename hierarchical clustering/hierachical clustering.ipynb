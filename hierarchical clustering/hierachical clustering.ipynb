{
 "cells": [
  {
   "cell_type": "markdown",
   "metadata": {},
   "source": [
    "# Clustering-Hierarchical Clustering.\n",
    "\n",
    "### Contents.\n",
    "1. Introduction\n",
    "1. Understanding a dendrogram and the agglomerative approach.\n",
    "    1. Identifying the clusters based on the dendrogram.\n",
    "1. Hierarchical Algorithm.\n",
    "1. Defining the Dissimilarity measure between two points.\n",
    "1. Choosing the Disimilarity Measure.\n",
    "\n",
    "## Introduction.\n",
    "\n",
    "As seen in my earlier [post](https://github.com/GeorgeOduor/unsupervised-learning/blob/master/k-means%20clustering/CLUSTERING.ipynb) and [project](https://github.com/GeorgeOduor/unsupervised-learning/blob/master/k-means%20clustering/kmeans.ipynb) on k-means clustering,the k value for number of clusters have to be specified earlier.This property is not required in hierarchical clustering.\n",
    "\n",
    "This particular type of clustering method creates a tree based representation of observations called a _dendrogram_.\n",
    "\n",
    "Hierarchical clustering algorithms build a hierachy of clusters where each node is a cluster consists of the clusters of its daughter nodes.\n",
    "\n",
    "Hierachical clustering strategies generaly fall into teo types:\n",
    "1. Divisive (_Top down approach_)\n",
    "\n",
    "Start with all observations and break it down into smaller pieces.\n",
    "\n",
    "1. Agglomerative(_Bottom up approach_)\n",
    "\n",
    "Each observations starts the cluster and pair up as they move the hierachy.Agglomeration simply means to collect things.Agglomerative approach is very popular and works in a similar way which humans think.\n",
    "\n",
    "## Understanding a dendrogram and the agglomerative approach.\n",
    "\n",
    "So how does it work?\n",
    "\n",
    "This method builds a hierachy from individual elements by progressively merging clusters.\n",
    "\n",
    "In a dendrogram,each leaf represents one of the datapoints.As we move up the tree some observations fuse together to form branches.These observations that fuse together are very similar to each other or _close_ to one another.Further up the tree ,branchesf fuse with other other branches or observations.\n",
    "\n",
    "The height of the fusions indicates how the two observations or clusters are different.Let me plot a simple plot of face data here to see how this comes about."
   ]
  },
  {
   "cell_type": "code",
   "execution_count": 19,
   "metadata": {},
   "outputs": [
    {
     "data": {
      "text/html": [
       "\n",
       "        <script>\n",
       "            function code_toggle_5193671403221472602() {\n",
       "                $('div.cell.code_cell.rendered.selected').find('div.input').toggle();\n",
       "            }\n",
       "\n",
       "            \n",
       "        </script>\n",
       "\n",
       "        <a href=\"javascript:code_toggle_5193671403221472602()\">Toggle show/hide</a>\n",
       "    "
      ],
      "text/plain": [
       "<IPython.core.display.HTML object>"
      ]
     },
     "execution_count": 19,
     "metadata": {},
     "output_type": "execute_result"
    }
   ],
   "source": [
    "#this code is here to help me hide some cells input\n",
    "from IPython.display import HTML\n",
    "import random\n",
    "\n",
    "def hide_toggle(for_next=False):\n",
    "    this_cell = \"\"\"$('div.cell.code_cell.rendered.selected')\"\"\"\n",
    "    next_cell = this_cell + '.next()'\n",
    "\n",
    "    toggle_text = 'Toggle show/hide'  # text shown on toggle link\n",
    "    target_cell = this_cell  # target cell to control with toggle\n",
    "    js_hide_current = ''  # bit of JS to permanently hide code in current cell (only when toggling next cell)\n",
    "\n",
    "    if for_next:\n",
    "        target_cell = next_cell\n",
    "        toggle_text += ' next cell'\n",
    "        js_hide_current = this_cell + '.find(\"div.input\").hide();'\n",
    "\n",
    "    js_f_name = 'code_toggle_{}'.format(str(random.randint(1,2**64)))\n",
    "\n",
    "    html = \"\"\"\n",
    "        <script>\n",
    "            function {f_name}() {{\n",
    "                {cell_selector}.find('div.input').toggle();\n",
    "            }}\n",
    "\n",
    "            {js_hide_current}\n",
    "        </script>\n",
    "\n",
    "        <a href=\"javascript:{f_name}()\">{toggle_text}</a>\n",
    "    \"\"\".format(\n",
    "        f_name=js_f_name,\n",
    "        cell_selector=target_cell,\n",
    "        js_hide_current=js_hide_current, \n",
    "        toggle_text=toggle_text\n",
    "    )\n",
    "\n",
    "    return HTML(html)\n",
    "\n",
    "hide_toggle()"
   ]
  },
  {
   "cell_type": "code",
   "execution_count": 67,
   "metadata": {},
   "outputs": [
    {
     "data": {
      "image/png": "[encoded data removed]",
      "text/plain": [
       "<Figure size 1224x288 with 2 Axes>"
      ]
     },
     "metadata": {
      "needs_background": "light"
     },
     "output_type": "display_data"
    },
    {
     "data": {
      "text/html": [
       "\n",
       "        <script>\n",
       "            function code_toggle_16656222364455577923() {\n",
       "                $('div.cell.code_cell.rendered.selected').find('div.input').toggle();\n",
       "            }\n",
       "\n",
       "            \n",
       "        </script>\n",
       "\n",
       "        <a href=\"javascript:code_toggle_16656222364455577923()\">Toggle show/hide</a>\n",
       "    "
      ],
      "text/plain": [
       "<IPython.core.display.HTML object>"
      ]
     },
     "execution_count": 67,
     "metadata": {},
     "output_type": "execute_result"
    }
   ],
   "source": [
    "\n",
    "\n",
    "import seaborn as sns\n",
    "import matplotlib.pyplot as plt\n",
    "import scipy.cluster.hierarchy as sch\n",
    "import pandas as pd\n",
    "\n",
    "points1 = [[3,9],[4,8],[5,4]]\n",
    "points = pd.DataFrame({\"x\":[-1.4,-0.9,-0.4,-0.1,0,0.3,1.2,1.4],\n",
    "                  \"y\":[-1.6,-0.8,-1,-.4,-.2,.1,0,1]}).values\n",
    "plt.figure(figsize=(17,4))\n",
    "plt.subplot(1,2,1)\n",
    "for i in range(len(points)):\n",
    "    x = points[i][0]\n",
    "    y = points[i][1]\n",
    "    axes[1]=plt.plot(x, y, 'bo')\n",
    "    plt.text(x * (1 + 0.01), y * (1 + 0.01) , i, fontsize=12)\n",
    "plt.title(\"Scatter plot\")\n",
    "plt.xlabel(\"x\")\n",
    "plt.ylabel(\"y\")\n",
    "\n",
    "plt.subplot(1,2,2)\n",
    "axes[0] =dendrogram = sch.dendrogram(sch.linkage(df.values,method='ward'))\n",
    "plt.title(\"Dendrogram\")\n",
    "plt.xlabel(\"Datapoints\")\n",
    "plt.ylabel(\"Eucledian Distance\")\n",
    "plt.tight_layout(pad=2)\n",
    "plt.show()\n",
    "hide_toggle()\n"
   ]
  },
  {
   "cell_type": "markdown",
   "metadata": {},
   "source": [
    "In the plot to the left ,we can see the points ploted in a 2D scater plot and a dendrogram of the same is done in second plot.\n",
    "Lets understand how the program makes the dendrogram in the right figure.Assume the points represents cities in a country and we want to cluster them based on their distance from each other.Distance between the ponits can be calculated by many methods inclusing eucledian distance.Looking at the scatter plot on the left side points 3 and 4 are the clossest therefore they will be fused together and they will form a cluster.This leaves us with $n-1=7$ clusters.The distance between them is represented by the height of the cluster formed.\n",
    "\n",
    "By checking the distance between the points 1 and 2 relative to other points we find they are the closest so we will make a cluster with them.Using the first cluster between 3 and 4 we can see that its closser to five than the cluster between 1 and 2 so so we will fuse this cluster with point 5.\n",
    "\n",
    "This process continues progressively up the tree to make the dendrogram.\n",
    "\n",
    "### Identifying the clusters based on the dendrogram.\n",
    "\n",
    "So how do we identify the clusters based on this dendrogram?To get the optimal number of clusters,the dendrogram is cut at a point where the vertical lines are highest and not crossing any horizontal line.\n",
    "\n",
    "## Hierarchical Algorithm.\n",
    "\n",
    "After Understanding the concept ,lets see the algorithm on how to build this in a simple and easy to unsderstand steps.\n",
    "\n",
    "1. Make each datpoint a single point cluster;froms N clusters\n",
    "1. Take two clossest datapoints and make them one cluster;forms N-1 clusters.\n",
    "1. Take the two closest clusters and make them one cluster;forms N-2 Clusters\n",
    "1. Repeat step 3 until there is one one cluster remaining.\n",
    "\n",
    "\n",
    "## Defining the Dissimilarity measure between two points.\n",
    "\n",
    "A question arises on how we chose which cluster to be fused with which.In simple terms how did we decide on the dissimilarity between two clusters.\n",
    "\n",
    "This problem is easily solved by the concept of linkage which defines the dissimilarity between two groups of observations.\n",
    "There are 4 main types of linkages namely:\n",
    "\n",
    "1. **Complete linkage**:takes the largest of the dissimilarities between the observations in two clusters after computing all pairwise dissimilarities.\n",
    "1. **Average linkage**:takes the average of the dissimilarities between the observations in two clusters after computing all pairwise dissimilarities.\n",
    "1. **Single linkage**:takes the smallest of the dissimilarities between the observations in two clustersafter computing all pairwise dissimilarities.\n",
    "1. **Centroid linkage**:takes the dissimilarity between the centroid of cluster A and centroid of cluster B\n",
    "\n",
    "## Choosing the Disimilarity Measure.\n",
    "\n",
    "Choosing the dissimilarity measure in this algorithm depends on the domain knowledge of what one is doing.\n",
    "\n",
    "Feature scalling is recomended in order to take care of outliers in the dataset.\n",
    "\n",
    "The two decisions above are very fragile and should be made with great care as they greatly affect the result of the model.\n",
    "\n",
    "## Projects associated with Hierachical clustering.\n",
    "\n",
    "Please click below to see my project in python associated with this method.\n",
    "1. [__Python__]()\n",
    "1. [__R__]()"
   ]
  }
 ],
 "metadata": {
  "kernelspec": {
   "display_name": "Python 3",
   "language": "python",
   "name": "python3"
  },
  "language_info": {
   "codemirror_mode": {
    "name": "ipython",
    "version": 3
   },
   "file_extension": ".py",
   "mimetype": "text/x-python",
   "name": "python",
   "nbconvert_exporter": "python",
   "pygments_lexer": "ipython3",
   "version": "3.6.7"
  }
 },
 "nbformat": 4,
 "nbformat_minor": 2
}
